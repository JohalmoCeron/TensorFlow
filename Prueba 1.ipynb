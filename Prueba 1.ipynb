{
    "cells": [
        {
            "metadata": {},
            "cell_type": "markdown",
            "source": "# Description\nThis notebook analyzes and visualizes a Theorical Proyect Data"
        },
        {
            "metadata": {},
            "cell_type": "code",
            "source": "\nimport types\nimport pandas as pd\nfrom botocore.client import Config\nimport ibm_boto3\n\ndef __iter__(self): return 0\n\n# @hidden_cell\n# The following code accesses a file in your IBM Cloud Object Storage. It includes your credentials.\n# You might want to remove those credentials before you share the notebook.\nclient_a5653096f6eb4f71ba00cb8713275e78 = ibm_boto3.client(service_name='s3',\n    ibm_api_key_id='aHnZNlddx-dEDlipG2_jfvzfoYs3dq9Wd540DzSTW_n7',\n    ibm_auth_endpoint=\"https://iam.cloud.ibm.com/oidc/token\",\n    config=Config(signature_version='oauth'),\n    endpoint_url='https://s3-api.us-geo.objectstorage.service.networklayer.com')\n\nbody = client_a5653096f6eb4f71ba00cb8713275e78.get_object(Bucket='proyectodeprueba-donotdelete-pr-9clr0uy3ocwy6n',Key='asset-v1_TUMx+QEMx+2T2015+type@asset+block@Schuhman_Waterproofing_and_Process_Data.csv')['Body']\n# add missing __iter__ method, so pandas accepts body as file-like object\nif not hasattr(body, \"__iter__\"): body.__iter__ = types.MethodType( __iter__, body )\n\ndf_data_1 = pd.read_csv(body)\ndf_data_1.head()\n",
            "execution_count": 1,
            "outputs": [
                {
                    "output_type": "execute_result",
                    "execution_count": 1,
                    "data": {
                        "text/plain": "  Schuhman Data                         Unnamed: 1  \\\n0             #  Stitch Density (stiches per inch)   \n1             1                             10.020   \n2             2                              8.050   \n3             3                              8.070   \n4             4                              9.850   \n\n                                    Unnamed: 2             LSL = 14000 mm  \\\n0  Outsole Bonding Strength  (Glue Height, mm)  Waterproofing Rating (mm)   \n1                                        1.451                      14413   \n2                                        1.708                      15085   \n3                                        1.463                      14590   \n4                                        1.718                      15374   \n\n   Unnamed: 4  Unnamed: 5  Unnamed: 6  Unnamed: 7  Unnamed: 8  Unnamed: 9  \n0         NaN         NaN         NaN         NaN         NaN         NaN  \n1         NaN         NaN         NaN         NaN         NaN         NaN  \n2         NaN         NaN         NaN         NaN         NaN         NaN  \n3         NaN         NaN         NaN         NaN         NaN         NaN  \n4         NaN         NaN         NaN         NaN         NaN         NaN  ",
                        "text/html": "<div>\n<style scoped>\n    .dataframe tbody tr th:only-of-type {\n        vertical-align: middle;\n    }\n\n    .dataframe tbody tr th {\n        vertical-align: top;\n    }\n\n    .dataframe thead th {\n        text-align: right;\n    }\n</style>\n<table border=\"1\" class=\"dataframe\">\n  <thead>\n    <tr style=\"text-align: right;\">\n      <th></th>\n      <th>Schuhman Data</th>\n      <th>Unnamed: 1</th>\n      <th>Unnamed: 2</th>\n      <th>LSL = 14000 mm</th>\n      <th>Unnamed: 4</th>\n      <th>Unnamed: 5</th>\n      <th>Unnamed: 6</th>\n      <th>Unnamed: 7</th>\n      <th>Unnamed: 8</th>\n      <th>Unnamed: 9</th>\n    </tr>\n  </thead>\n  <tbody>\n    <tr>\n      <th>0</th>\n      <td>#</td>\n      <td>Stitch Density (stiches per inch)</td>\n      <td>Outsole Bonding Strength  (Glue Height, mm)</td>\n      <td>Waterproofing Rating (mm)</td>\n      <td>NaN</td>\n      <td>NaN</td>\n      <td>NaN</td>\n      <td>NaN</td>\n      <td>NaN</td>\n      <td>NaN</td>\n    </tr>\n    <tr>\n      <th>1</th>\n      <td>1</td>\n      <td>10.020</td>\n      <td>1.451</td>\n      <td>14413</td>\n      <td>NaN</td>\n      <td>NaN</td>\n      <td>NaN</td>\n      <td>NaN</td>\n      <td>NaN</td>\n      <td>NaN</td>\n    </tr>\n    <tr>\n      <th>2</th>\n      <td>2</td>\n      <td>8.050</td>\n      <td>1.708</td>\n      <td>15085</td>\n      <td>NaN</td>\n      <td>NaN</td>\n      <td>NaN</td>\n      <td>NaN</td>\n      <td>NaN</td>\n      <td>NaN</td>\n    </tr>\n    <tr>\n      <th>3</th>\n      <td>3</td>\n      <td>8.070</td>\n      <td>1.463</td>\n      <td>14590</td>\n      <td>NaN</td>\n      <td>NaN</td>\n      <td>NaN</td>\n      <td>NaN</td>\n      <td>NaN</td>\n      <td>NaN</td>\n    </tr>\n    <tr>\n      <th>4</th>\n      <td>4</td>\n      <td>9.850</td>\n      <td>1.718</td>\n      <td>15374</td>\n      <td>NaN</td>\n      <td>NaN</td>\n      <td>NaN</td>\n      <td>NaN</td>\n      <td>NaN</td>\n      <td>NaN</td>\n    </tr>\n  </tbody>\n</table>\n</div>"
                    },
                    "metadata": {}
                }
            ]
        },
        {
            "metadata": {},
            "cell_type": "code",
            "source": "",
            "execution_count": null,
            "outputs": []
        }
    ],
    "metadata": {
        "kernelspec": {
            "name": "python3",
            "display_name": "Python 3.7",
            "language": "python"
        },
        "language_info": {
            "name": "python",
            "version": "3.7.9",
            "mimetype": "text/x-python",
            "codemirror_mode": {
                "name": "ipython",
                "version": 3
            },
            "pygments_lexer": "ipython3",
            "nbconvert_exporter": "python",
            "file_extension": ".py"
        }
    },
    "nbformat": 4,
    "nbformat_minor": 1
}